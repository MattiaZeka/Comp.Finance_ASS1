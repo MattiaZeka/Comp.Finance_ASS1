{
 "cells": [
  {
   "cell_type": "markdown",
   "metadata": {},
   "source": [
    "# Assignment 1"
   ]
  },
  {
   "cell_type": "markdown",
   "metadata": {},
   "source": [
    "**Deadline**:  Sunday 21 November, 23.59.\n",
    "\n",
    "Your notebook should not give errors when executed with `Run All`. Please submit your answers via [Canvas](https://canvas.uva.nl/courses/25150/assignments/248822).\n",
    "\n",
    "| |Name |Student number|Email|\n",
    "|:-|----|:-------------|:----|\n",
    "|1.|  |        |     |\n",
    "|2.|  |        |     |\n",
    "\n",
    "****Hand in the following****:\n",
    "* Your notebook. N.B. **click on `Kernel`, then `Restart & Run All`** before submitting, see notes.\n",
    "* A (printed) pdf version of your notebook.\n",
    "\n",
    "****NOTES****:\n",
    "* The assignment is a partial stand-in for a final examination, so the usual rules regarding plagiarism and fraud apply, with all attendant consequences. Code found on the internet or elsewhere is not acceptable as a solution.\n",
    "* Before submitting your work, **click on `Kernel`, then `Restart & Run All`** and verify that your notebook produces the desired results and does not error.\n",
    "* Make sure that any function you write has a docstring, and comments where appropriate.\n",
    "* Some questions require you to write code to obtain a numerical result (e.g., an option price). In that case, don't just give the function, but also the result of calling it with the given parameter values (i.e., the numerial value that it returns). If your function uses random numbers, then set the seed to 0 before calling it. This makes it much easier to grade the assignments (at least as long as the answer is correct).\n",
    "* How to convert your notebook to pdf: The easiest way is probably to use your browser's print functionality: e.g. in Chrome, press the three dots to go to Options, select 'Print...', and then select 'save as pdf' as Destination. I usually set it to 70% zoom such that the output fits the printed pdf pages.\n",
    "\n",
    "**Declaration of Originality**:\n",
    "\n",
    "We whose names are given under 1. and 2. above declare that\n",
    "1. These solutions are solely our own work.\n",
    "2. We have not made these solutions available to any other student."
   ]
  },
  {
   "cell_type": "markdown",
   "metadata": {},
   "source": [
    "## Question 1: Testing the CAPM\n",
    "The CAPM implies that\n",
    "\\begin{equation*}\n",
    "E(R_{i}-R_{f})=\\beta _{i}E(R_{m}-R_{f}),\\qquad \\beta _{i}=\\frac{\\mathrm{cov}%\n",
    "(R_{i},R_{m})}{\\mathrm{var}(R_{m})},\n",
    "\\end{equation*}\n",
    "\n",
    "where $R_i$ is the return on a stock, and $R_m$ is the market return. Suppose we have time series on $n$ different stock or portfolio returns $\\{R_{it},i=1,\\ldots ,n\\}_{t=1}^{T}$ and on a \"market return\" (value weighted index) $\\{R_{mt}\\}_{t=1}^{T}$.  We also have observations on a risk-free interest rate $\\{R_{ft}\\}_{t=1}^{T}$ and construct with these the excess returns $r_{it}=R_{it}-R_{ft}$ and $r_{mt}=R_{mt}-R_{ft}$. Now $\\beta_i$ can be estimated from the time-series regression \\begin{equation*}\n",
    "r_{it}=\\alpha _{i}+\\beta _{i}r_{mt}+\\varepsilon _{it},\\qquad t=1,\\ldots ,T.\n",
    "\\end{equation*}\n",
    "\n",
    "One way to test the CAPM is as follows: denote by $\\bar{r}_{i}$\n",
    "and $\\hat{\\beta}_{i}$ the average excess return and estimated $\\beta$ of stock $i$. If the model $E(r_{i})=\\beta_{i}E(r_{m})$ is valid, then $(\\hat{\\beta}_{i},\\bar{r}_{i})$ should lie on a line with zero intercept and slope $\\lambda =E(r_{mt})$. This line is called the *security market line*, and $\\lambda$ is known as the *market risk premium*.\n",
    "\n",
    "We can estimate $\\lambda $ by OLS in the cross-section regression\n",
    "\\begin{equation*}\n",
    "\\bar{r}_{i}=\\lambda \\hat{\\beta}_{i}+\\alpha _{i},\\qquad i=1,\\ldots ,n.\n",
    "\\end{equation*}\n",
    "Note that $\\hat{\\beta_i}$ is the regressor, $\\lambda$ the coefficient, and $\\alpha_i$ the error term.\n",
    "\n",
    "The assignment is to estimate the CAPM betas of the 30 constituent stocks of the Dow (using the return on the Dow as the market return, and the 3 month T-bill rate as the risk-free rate), then estimate the above cross-section regression, and finally make a plot of the security market line superimposed on a scatter plot of $(\\hat{\\beta}_{i},\\bar{r}_{i})$."
   ]
  },
  {
   "cell_type": "markdown",
   "metadata": {},
   "source": [
    "**1.1** Import the relevant libraries:"
   ]
  },
  {
   "cell_type": "code",
   "execution_count": 1,
   "metadata": {
    "scrolled": true
   },
   "outputs": [
    {
     "name": "stdout",
     "output_type": "stream",
     "text": [
      "Collecting package metadata (current_repodata.json): done\n",
      "Solving environment: done\n",
      "\n",
      "# All requested packages already installed.\n",
      "\n"
     ]
    }
   ],
   "source": [
    "import numpy as np\n",
    "!conda install -y pandas-datareader\n",
    "import pandas as pd\n",
    "import pandas_datareader.data as web\n",
    "import statsmodels.formula.api as smf \n",
    "import matplotlib.pyplot as plt\n",
    "import statsmodels.formula.api as smf              \n",
    "import scipy.stats as stats  \n",
    "import seaborn as sns\n",
    "import statsmodels.api as sm"
   ]
  },
  {
   "cell_type": "markdown",
   "metadata": {},
   "source": [
    "**1.2** Obtain, from the FRED database, the daily adjusted closing prices of the Dow Jones Industrial Average (DJIA) from 31/12/2011 to 30/09/2021. Convert them into percentage log returns $r_t=100 \\times \\log(P_t/P_{t-1})$ and store them in a DataFrame `df_1`, which has the date as index and 'DJIA' as column name:"
   ]
  },
  {
   "cell_type": "code",
   "execution_count": 2,
   "metadata": {},
   "outputs": [
    {
     "name": "stderr",
     "output_type": "stream",
     "text": [
      "/var/folders/yb/4yfj4w257vz1r8lp2kk9492h0000gq/T/ipykernel_65181/2518953720.py:2: FutureWarning: The pandas.datetime class is deprecated and will be removed from pandas in a future version. Import from datetime module instead.\n",
      "  start= pd.datetime(2011,12,31)\n",
      "/var/folders/yb/4yfj4w257vz1r8lp2kk9492h0000gq/T/ipykernel_65181/2518953720.py:3: FutureWarning: The pandas.datetime class is deprecated and will be removed from pandas in a future version. Import from datetime module instead.\n",
      "  end=   pd.datetime(2021,9,30)\n"
     ]
    },
    {
     "name": "stdout",
     "output_type": "stream",
     "text": [
      "DatetimeIndex(['2012-01-02', '2012-01-03', '2012-01-04', '2012-01-05',\n",
      "               '2012-01-06', '2012-01-09', '2012-01-10', '2012-01-11',\n",
      "               '2012-01-12', '2012-01-13',\n",
      "               ...\n",
      "               '2021-09-17', '2021-09-20', '2021-09-21', '2021-09-22',\n",
      "               '2021-09-23', '2021-09-24', '2021-09-27', '2021-09-28',\n",
      "               '2021-09-29', '2021-09-30'],\n",
      "              dtype='datetime64[ns]', name='DATE', length=2544, freq=None)\n",
      " \n",
      "Index(['DJIA'], dtype='object')\n",
      " \n",
      "                DJIA\n",
      "DATE                \n",
      "2012-01-02       NaN\n",
      "2012-01-03       NaN\n",
      "2012-01-04  0.169569\n",
      "2012-01-05 -0.021905\n",
      "2012-01-06 -0.450282\n",
      " \n",
      "(2544, 1)\n"
     ]
    }
   ],
   "source": [
    "# Create timeseries and import relevant data\n",
    "start= pd.datetime(2011,12,31)\n",
    "end=   pd.datetime(2021,9,30)\n",
    "p=web.DataReader(\"DJIA\",\"fred\",start,end)\n",
    "#print(p.head())\n",
    "\n",
    "# Convert to returns\n",
    "ret= 100*(np.log(p)-np.log(p).shift(1))\n",
    "\n",
    "# Check some properties\n",
    "#print(ret.head())\n",
    "#print(ret.shape)\n",
    "\n",
    "# Store data in DataFrame\n",
    "df_1= pd.DataFrame(ret)\n",
    "\n",
    "# Check some properties of DataFrame\n",
    "print(df_1.index)\n",
    "print(\" \")\n",
    "print(df_1.columns)\n",
    "print(\" \")\n",
    "print(df_1.head())\n",
    "print(\" \")\n",
    "print(df_1.shape)\n"
   ]
  },
  {
   "cell_type": "markdown",
   "metadata": {},
   "source": [
    "**1.3** Obtain, also from the FRED database, daily data on the 3-month T-bill rate (DTB3) for the same period and divide them by 365:"
   ]
  },
  {
   "cell_type": "code",
   "execution_count": 3,
   "metadata": {},
   "outputs": [
    {
     "name": "stdout",
     "output_type": "stream",
     "text": [
      "                DTB3\n",
      "DATE                \n",
      "2012-01-02       NaN\n",
      "2012-01-03  0.000055\n",
      "2012-01-04  0.000055\n",
      "2012-01-05  0.000055\n",
      "2012-01-06  0.000055\n"
     ]
    }
   ],
   "source": [
    "# Import 3-month T-bill rate\n",
    "r_f=web.DataReader(\"DTB3\",\"fred\",start,end)\n",
    "#print(r_f.head())\n",
    "\n",
    "rf= r_f/365\n",
    "print(rf.head())\n"
   ]
  },
  {
   "cell_type": "markdown",
   "metadata": {},
   "source": [
    "**1.4** The csv file `tickerdata.csv` which has been provided with this assignment contains the adjusted closing prices for the 30 constituent stocks of the Dow Jones.\n",
    "\n",
    "Import the dataset into a second DataFrame `df_2`, convert the `Date`-column to datetime, and make the `Date`-column the new index:"
   ]
  },
  {
   "cell_type": "code",
   "execution_count": 4,
   "metadata": {},
   "outputs": [
    {
     "name": "stdout",
     "output_type": "stream",
     "text": [
      "                 AAPL       AMGN        AXP         BA        CAT        CRM  \\\n",
      "Date                                                                           \n",
      "2012-01-03  12.610315  50.510731  41.869728  60.731098  71.366051  25.299999   \n",
      "2012-01-04  12.678082  50.234978  41.895790  60.821098  72.026718  24.370001   \n",
      "2012-01-05  12.818840  50.747097  42.382149  60.166496  72.535507  24.692499   \n",
      "2012-01-06  12.952843  51.022858  41.921841  60.534721  72.717773  25.264999   \n",
      "2012-01-09  12.932299  50.581646  42.026062  60.984764  73.735329  25.187500   \n",
      "\n",
      "                 CSCO        CVX        DIS         DD  ...        MRK  \\\n",
      "Date                                                    ...              \n",
      "2012-01-03  13.845226  73.995338  34.300625  32.105747  ...  26.613436   \n",
      "2012-01-04  14.112767  73.867928  34.784103  32.278187  ...  26.641226   \n",
      "2012-01-05  14.060745  73.143867  35.366070  32.482964  ...  26.919172   \n",
      "2012-01-06  14.008723  72.614235  35.733166  32.676949  ...  26.731556   \n",
      "2012-01-09  14.097905  73.405342  35.589920  32.666180  ...  26.675970   \n",
      "\n",
      "                 MSFT        NKE         PG        TRV        UNH          V  \\\n",
      "Date                                                                           \n",
      "2012-01-03  21.707487  21.615437  49.415882  46.729477  44.211430  24.047722   \n",
      "2012-01-04  22.218348  21.930258  49.393711  46.539356  44.855392  23.618088   \n",
      "2012-01-05  22.445393  21.916859  49.186668  46.998802  45.155922  23.795546   \n",
      "2012-01-06  22.794075  21.878901  49.068359  47.014660  45.319073  23.515348   \n",
      "2012-01-09  22.494049  21.959282  49.275391  47.283974  45.267555  23.326220   \n",
      "\n",
      "                   VZ        WBA        WMT  \n",
      "Date                                         \n",
      "2012-01-03  25.347017  25.659273  48.089436  \n",
      "2012-01-04  25.015272  25.480762  47.595230  \n",
      "2012-01-05  24.843014  25.395391  47.364075  \n",
      "2012-01-06  24.771923  25.674795  47.029282  \n",
      "2012-01-09  24.797773  26.000774  47.172764  \n",
      "\n",
      "[5 rows x 30 columns]\n",
      " \n",
      "DatetimeIndex(['2012-01-03', '2012-01-04', '2012-01-05', '2012-01-06',\n",
      "               '2012-01-09', '2012-01-10', '2012-01-11', '2012-01-12',\n",
      "               '2012-01-13', '2012-01-17',\n",
      "               ...\n",
      "               '2021-09-17', '2021-09-20', '2021-09-21', '2021-09-22',\n",
      "               '2021-09-23', '2021-09-24', '2021-09-27', '2021-09-28',\n",
      "               '2021-09-29', '2021-09-30'],\n",
      "              dtype='datetime64[ns]', name='Date', length=2453, freq=None)\n",
      " \n",
      "Index(['AAPL', 'AMGN', 'AXP', 'BA', 'CAT', 'CRM', 'CSCO', 'CVX', 'DIS', 'DD',\n",
      "       'GS', 'HD', 'HON', 'IBM', 'INTC', 'JNJ', 'JPM', 'KO', 'MCD', 'MMM',\n",
      "       'MRK', 'MSFT', 'NKE', 'PG', 'TRV', 'UNH', 'V', 'VZ', 'WBA', 'WMT'],\n",
      "      dtype='object')\n",
      " \n"
     ]
    }
   ],
   "source": [
    "# Import tickerdata and store it in new dataframe\n",
    "\n",
    "df_2=pd.read_csv(\"tickerdata.csv\")\n",
    "df_2=pd.DataFrame(df_2)\n",
    "#print(df_2.head())\n",
    "\n",
    "# Convert column \"Date\" to datetime datatype\n",
    "df_2[\"Date\"]=pd.to_datetime(df_2[\"Date\"])\n",
    "\n",
    "# Set date as index\n",
    "df_2=df_2.set_index(\"Date\")\n",
    "\n",
    "# Check some properties of df_2\n",
    "print(df_2.head())\n",
    "print(\" \")\n",
    "print(df_2.index)\n",
    "print(\" \")\n",
    "print(df_2.columns)\n",
    "print(\" \")\n",
    "\n",
    "\n"
   ]
  },
  {
   "cell_type": "markdown",
   "metadata": {},
   "source": [
    "**1.5** Using a `for` loop (over the columns), convert all the given adjusted closing prices into percentage log returns $r_t=100\\log(P_t/P_{t-1})$:"
   ]
  },
  {
   "cell_type": "code",
   "execution_count": 5,
   "metadata": {},
   "outputs": [
    {
     "name": "stdout",
     "output_type": "stream",
     "text": [
      "                AAPL      AMGN       AXP        BA       CAT       CRM  \\\n",
      "Date                                                                     \n",
      "2012-01-03       NaN       NaN       NaN       NaN       NaN       NaN   \n",
      "2012-01-04  0.535956 -0.547425  0.062226  0.148085  0.921486 -3.745146   \n",
      "2012-01-05  1.104125  1.014286  1.154191 -1.082108  0.703906  1.314662   \n",
      "2012-01-06  1.039931  0.541931 -1.092031  0.610145  0.250963  2.292049   \n",
      "2012-01-09 -0.158732 -0.868494  0.248300  0.740696  1.389621 -0.307217   \n",
      "\n",
      "                CSCO       CVX       DIS        DD  ...       MRK      MSFT  \\\n",
      "Date                                                ...                       \n",
      "2012-01-03       NaN       NaN       NaN       NaN  ...       NaN       NaN   \n",
      "2012-01-04  1.913936 -0.172336  1.399691  0.535662  ...  0.104367  2.326118   \n",
      "2012-01-05 -0.369298 -0.985045  1.659240  0.632408  ...  1.037890  1.016695   \n",
      "2012-01-06 -0.370666 -0.726731  1.032639  0.595414  ... -0.699402  1.541527   \n",
      "2012-01-09  0.634599  1.083574 -0.401682 -0.032961  ... -0.208157 -1.324985   \n",
      "\n",
      "                 NKE        PG       TRV       UNH         V        VZ  \\\n",
      "Date                                                                     \n",
      "2012-01-03       NaN       NaN       NaN       NaN       NaN       NaN   \n",
      "2012-01-04  1.445960 -0.044876 -0.407684  1.446047 -1.802742 -1.317454   \n",
      "2012-01-05 -0.061117 -0.420049  0.982379  0.667762  0.748555 -0.690995   \n",
      "2012-01-06 -0.173342 -0.240820  0.033735  0.360654 -1.184507 -0.286570   \n",
      "2012-01-09  0.366719  0.421037  0.571195 -0.113742 -0.807530  0.104299   \n",
      "\n",
      "                 WBA       WMT  \n",
      "Date                            \n",
      "2012-01-03       NaN       NaN  \n",
      "2012-01-04 -0.698128 -1.032997  \n",
      "2012-01-05 -0.335604 -0.486852  \n",
      "2012-01-06  1.094206 -0.709360  \n",
      "2012-01-09  1.261654  0.304627  \n",
      "\n",
      "[5 rows x 30 columns]\n"
     ]
    }
   ],
   "source": [
    "# Convert prices into percantage log returns using for loop\n",
    "\n",
    "for i in df_2:\n",
    "    df_2Ri= 100*(np.log(df_2)-np.log(df_2).shift(1))\n",
    "\n",
    "print(df_2Ri.head())\n"
   ]
  },
  {
   "cell_type": "markdown",
   "metadata": {},
   "source": [
    "**1.6** Concatenate DataFrames `df_1` and `df_2` along the common axis to a final DataFrame `df`:\n",
    "\n",
    "\n",
    "Notes (also hold for next question):\n",
    "* Need to specify the axis\n",
    "* `dtype` of the indices should be the same"
   ]
  },
  {
   "cell_type": "code",
   "execution_count": 6,
   "metadata": {},
   "outputs": [
    {
     "name": "stdout",
     "output_type": "stream",
     "text": [
      "DJIA    float64\n",
      "dtype: object\n",
      "AAPL    float64\n",
      "AMGN    float64\n",
      "AXP     float64\n",
      "BA      float64\n",
      "CAT     float64\n",
      "CRM     float64\n",
      "CSCO    float64\n",
      "CVX     float64\n",
      "DIS     float64\n",
      "DD      float64\n",
      "GS      float64\n",
      "HD      float64\n",
      "HON     float64\n",
      "IBM     float64\n",
      "INTC    float64\n",
      "JNJ     float64\n",
      "JPM     float64\n",
      "KO      float64\n",
      "MCD     float64\n",
      "MMM     float64\n",
      "MRK     float64\n",
      "MSFT    float64\n",
      "NKE     float64\n",
      "PG      float64\n",
      "TRV     float64\n",
      "UNH     float64\n",
      "V       float64\n",
      "VZ      float64\n",
      "WBA     float64\n",
      "WMT     float64\n",
      "dtype: object\n",
      "                DJIA      AAPL      AMGN       AXP        BA       CAT  \\\n",
      "2012-01-02       NaN       NaN       NaN       NaN       NaN       NaN   \n",
      "2012-01-03       NaN       NaN       NaN       NaN       NaN       NaN   \n",
      "2012-01-04  0.169569  0.535956 -0.547425  0.062226  0.148085  0.921486   \n",
      "2012-01-05 -0.021905  1.104125  1.014286  1.154191 -1.082108  0.703906   \n",
      "2012-01-06 -0.450282  1.039931  0.541931 -1.092031  0.610145  0.250963   \n",
      "\n",
      "                 CRM      CSCO       CVX       DIS  ...       MRK      MSFT  \\\n",
      "2012-01-02       NaN       NaN       NaN       NaN  ...       NaN       NaN   \n",
      "2012-01-03       NaN       NaN       NaN       NaN  ...       NaN       NaN   \n",
      "2012-01-04 -3.745146  1.913936 -0.172336  1.399691  ...  0.104367  2.326118   \n",
      "2012-01-05  1.314662 -0.369298 -0.985045  1.659240  ...  1.037890  1.016695   \n",
      "2012-01-06  2.292049 -0.370666 -0.726731  1.032639  ... -0.699402  1.541527   \n",
      "\n",
      "                 NKE        PG       TRV       UNH         V        VZ  \\\n",
      "2012-01-02       NaN       NaN       NaN       NaN       NaN       NaN   \n",
      "2012-01-03       NaN       NaN       NaN       NaN       NaN       NaN   \n",
      "2012-01-04  1.445960 -0.044876 -0.407684  1.446047 -1.802742 -1.317454   \n",
      "2012-01-05 -0.061117 -0.420049  0.982379  0.667762  0.748555 -0.690995   \n",
      "2012-01-06 -0.173342 -0.240820  0.033735  0.360654 -1.184507 -0.286570   \n",
      "\n",
      "                 WBA       WMT  \n",
      "2012-01-02       NaN       NaN  \n",
      "2012-01-03       NaN       NaN  \n",
      "2012-01-04 -0.698128 -1.032997  \n",
      "2012-01-05 -0.335604 -0.486852  \n",
      "2012-01-06  1.094206 -0.709360  \n",
      "\n",
      "[5 rows x 31 columns]\n"
     ]
    }
   ],
   "source": [
    "# Assign values df_2Ri to df_2 for convenience\n",
    "\n",
    "df_2=df_2Ri\n",
    "\n",
    "# Check if indices have the same datatype\n",
    "\n",
    "print(df_1.dtypes);print(df_2.dtypes)\n",
    "\n",
    "# Construct dataframe with both market index as underlying stocks\n",
    "\n",
    "df=pd.concat([df_1,df_2],axis=1)\n",
    "print(df.head())\n"
   ]
  },
  {
   "cell_type": "markdown",
   "metadata": {},
   "source": [
    "**1.7** Convert the raw returns in `df` to excess returns by subtracting the `pandas` series `rf` from all columns:"
   ]
  },
  {
   "cell_type": "code",
   "execution_count": 7,
   "metadata": {},
   "outputs": [
    {
     "name": "stdout",
     "output_type": "stream",
     "text": [
      "                DJIA      AAPL      AMGN       AXP        BA       CAT  \\\n",
      "2012-01-02       NaN       NaN       NaN       NaN       NaN       NaN   \n",
      "2012-01-03       NaN       NaN       NaN       NaN       NaN       NaN   \n",
      "2012-01-04  0.169515  0.535901 -0.547480  0.062171  0.148030  0.921431   \n",
      "2012-01-05 -0.021960  1.104071  1.014232  1.154136 -1.082163  0.703851   \n",
      "2012-01-06 -0.450337  1.039876  0.541876 -1.092085  0.610090  0.250909   \n",
      "\n",
      "                 CRM      CSCO       CVX       DIS  ...       MRK      MSFT  \\\n",
      "2012-01-02       NaN       NaN       NaN       NaN  ...       NaN       NaN   \n",
      "2012-01-03       NaN       NaN       NaN       NaN  ...       NaN       NaN   \n",
      "2012-01-04 -3.745201  1.913882 -0.172391  1.399636  ...  0.104312  2.326064   \n",
      "2012-01-05  1.314607 -0.369352 -0.985099  1.659185  ...  1.037835  1.016640   \n",
      "2012-01-06  2.291995 -0.370721 -0.726786  1.032584  ... -0.699457  1.541472   \n",
      "\n",
      "                 NKE        PG       TRV       UNH         V        VZ  \\\n",
      "2012-01-02       NaN       NaN       NaN       NaN       NaN       NaN   \n",
      "2012-01-03       NaN       NaN       NaN       NaN       NaN       NaN   \n",
      "2012-01-04  1.445906 -0.044931 -0.407739  1.445992 -1.802797 -1.317509   \n",
      "2012-01-05 -0.061172 -0.420104  0.982324  0.667707  0.748501 -0.691050   \n",
      "2012-01-06 -0.173396 -0.240875  0.033680  0.360599 -1.184562 -0.286625   \n",
      "\n",
      "                 WBA       WMT  \n",
      "2012-01-02       NaN       NaN  \n",
      "2012-01-03       NaN       NaN  \n",
      "2012-01-04 -0.698183 -1.033052  \n",
      "2012-01-05 -0.335658 -0.486907  \n",
      "2012-01-06  1.094151 -0.709415  \n",
      "\n",
      "[5 rows x 31 columns]\n"
     ]
    }
   ],
   "source": [
    "# Convert rf from dataframe into Series\n",
    "rf=pd.Series(rf[\"DTB3\"])\n",
    "#print(type(rf))\n",
    "\n",
    "# Substract rf from df over the rows\n",
    "df=df.subtract(rf,axis=\"index\")\n",
    "print(df.head())\n",
    "\n",
    "\n",
    "\n"
   ]
  },
  {
   "cell_type": "markdown",
   "metadata": {},
   "source": [
    "**1.8** Drop all rows from `df` that contain at least one NaN:"
   ]
  },
  {
   "cell_type": "code",
   "execution_count": 8,
   "metadata": {},
   "outputs": [
    {
     "name": "stdout",
     "output_type": "stream",
     "text": [
      "(2346, 31)\n"
     ]
    }
   ],
   "source": [
    "#print(df.shape)\n",
    "\n",
    "# Drop rows with any NaN-values and check with commented print option above how many rows have been deleted\n",
    "df=df.dropna(axis=0, how=\"any\")\n",
    "print(df.shape)"
   ]
  },
  {
   "cell_type": "markdown",
   "metadata": {},
   "source": [
    "**1.9** Use a `for` loop to estimate a CAPM time series regression for each stock, and store the estimated slope coefficient in a list. \n",
    "\n",
    "*Hint*: use string interpolation to construct the regression equation and use the list `tickers` below, containing the ticker symbols of all 30 constituent stocks of the DJIA."
   ]
  },
  {
   "cell_type": "code",
   "execution_count": 9,
   "metadata": {},
   "outputs": [],
   "source": [
    "tickers = [\"AAPL\", \"AMGN\", \"AXP\", \"BA\", \"CAT\", \"CRM\", \"CSCO\", \"CVX\", \"DIS\", \"DD\",\n",
    "            \"GS\", \"HD\", \"HON\", \"IBM\", \"INTC\", \"JNJ\", \"JPM\", \"KO\", \"MCD\", \"MMM\", \n",
    "            \"MRK\", \"MSFT\", \"NKE\", \"PG\", \"TRV\", \"UNH\", \"V\", \"VZ\", \"WBA\",\"WMT\"]"
   ]
  },
  {
   "cell_type": "code",
   "execution_count": 10,
   "metadata": {},
   "outputs": [
    {
     "name": "stdout",
     "output_type": "stream",
     "text": [
      "[1.0123805371791255, 0.843988927715863, 1.2671965532092107, 1.546305665399263, 1.1613003720474417, 1.058424903768695, 0.9946973373365443, 1.2105287443091646, 0.9877328533294722, 1.1823931518044408, 1.2938977147341713, 0.9904804122066533, 1.068795699806526, 0.9701575607860277, 1.1111529041488155, 0.6658307234508307, 1.2496648246365416, 0.6751687869344227, 0.7802988996874127, 0.9078587551384667, 0.6844055685129881, 1.0580233898967404, 0.9307321413785774, 0.6098461363854872, 0.9614686396139731, 1.0044320758791154, 1.0803973954604005, 0.5364298211547747, 0.840926007747768, 0.5286295956180211]\n"
     ]
    }
   ],
   "source": [
    "# Create an empty list to append betas\n",
    "Betas=[]      \n",
    "\n",
    "# OLS regression using for loop and appends coefficient of 'DJIA' to empty Betas list\n",
    "\n",
    "for i in tickers:\n",
    "    result= smf.ols(i + '~DJIA', data=df).fit(cov_type= 'HAC',cov_kwds={'maxlags':5})\n",
    "    \n",
    "    Betas.append(result.params['DJIA'])\n",
    "\n",
    "print(Betas)\n"
   ]
  },
  {
   "cell_type": "markdown",
   "metadata": {},
   "source": [
    "**1.10** Create a new dataframe that has `tickers` as index, and two columns: `beta`, containing the 30 estimated betas, and `meanret`, containing the mean excess returns of the 30 stocks:"
   ]
  },
  {
   "cell_type": "code",
   "execution_count": 11,
   "metadata": {},
   "outputs": [
    {
     "name": "stdout",
     "output_type": "stream",
     "text": [
      "            Bi     E(Ri)\n",
      "AAPL  1.012381  0.089613\n",
      "AMGN  0.843989  0.061284\n",
      "AXP   1.267197  0.055363\n",
      "BA    1.546306  0.051763\n",
      "CAT   1.161300  0.047535\n"
     ]
    }
   ],
   "source": [
    "\n",
    "# In order to construct variable meanret, containing mean excess returns of stocks\n",
    "meanret=[]\n",
    "\n",
    "for i in tickers:\n",
    "    meanret.append(df[i].mean())\n",
    "\n",
    "# Construct dataframe for Stock betas & mean excess returns with tickers as index\n",
    "df_3={'Bi':Betas, 'E(Ri)':meanret}\n",
    "df3= pd.DataFrame(data=df_3,index= tickers)\n",
    "print(df3.head())\n",
    "\n",
    "\n",
    "\n"
   ]
  },
  {
   "cell_type": "markdown",
   "metadata": {},
   "source": [
    "**1.11** Estimate the security market line by a cross-sectional regression (without intercept), and print a summary of the result:"
   ]
  },
  {
   "cell_type": "code",
   "execution_count": 12,
   "metadata": {},
   "outputs": [
    {
     "name": "stdout",
     "output_type": "stream",
     "text": [
      "                        Results: Ordinary least squares\n",
      "================================================================================\n",
      "Model:                  OLS              Adj. R-squared (uncentered): 0.832     \n",
      "Dependent Variable:     meanret          AIC:                         -135.9810 \n",
      "Date:                   2021-11-21 20:04 BIC:                         -134.5798 \n",
      "No. Observations:       30               Log-Likelihood:              68.990    \n",
      "Df Model:               1                F-statistic:                 149.3     \n",
      "Df Residuals:           29               Prob (F-statistic):          5.82e-13  \n",
      "R-squared (uncentered): 0.837            Scale:                       0.00060921\n",
      "--------------------------------------------------------------------------------------\n",
      "            Coef.        Std.Err.          t          P>|t|        [0.025       0.975]\n",
      "--------------------------------------------------------------------------------------\n",
      "Betas       0.0550         0.0045       12.2199       0.0000       0.0458       0.0642\n",
      "--------------------------------------------------------------------------------\n",
      "Omnibus:                    1.502             Durbin-Watson:               1.590\n",
      "Prob(Omnibus):              0.472             Jarque-Bera (JB):            1.071\n",
      "Skew:                       -0.459            Prob(JB):                    0.586\n",
      "Kurtosis:                   2.891             Condition No.:               1    \n",
      "================================================================================\n",
      "\n"
     ]
    }
   ],
   "source": [
    "# Regression: STOCKi= BETAi * DJIA\n",
    "SML = smf.ols('meanret ~ -1 + Betas', data=df3).fit()\n",
    "print(SML.summary2())\n"
   ]
  },
  {
   "cell_type": "code",
   "execution_count": 13,
   "metadata": {},
   "outputs": [
    {
     "data": {
      "image/png": "[encoded data removed]",
      "text/plain": [
       "<Figure size 432x288 with 1 Axes>"
      ]
     },
     "metadata": {
      "needs_background": "light"
     },
     "output_type": "display_data"
    }
   ],
   "source": [
    "# Create scatterplot of Stocks\n",
    "\n",
    "plt.scatter(Betas, meanret, c = \"Black\", label = \"Stocks\")\n",
    "\n",
    "# Define x-axis and y-axis\n",
    "\n",
    "Betas = plt.xlim()\n",
    "meanret = plt.ylim()\n",
    "\n",
    "# Create Security market line\n",
    "\n",
    "plt.plot(Betas, meanret, c = \"Red\", label = \"SML\")\n",
    "\n",
    "# Figure properties/labels\n",
    "\n",
    "plt.xlabel('Bi')\n",
    "plt.ylabel('E(ri)')\n",
    "plt.legend()\n",
    "plt.title('Security market line')\n",
    "\n",
    "\n",
    "plt.show()"
   ]
  },
  {
   "cell_type": "markdown",
   "metadata": {},
   "source": [
    "**1.12** Make a scatter plot of $(\\hat{\\beta}_{i},\\bar{r}_{i})$ and overlay it with a red regression line (the security market line). Add a title and legend, and label the axes:"
   ]
  },
  {
   "cell_type": "markdown",
   "metadata": {},
   "source": [
    "## Question 2: Value at Risk\n",
    "In this question we construct a VaR estimates for two stocks, one high risk and one low risk stock. Further, for the high risk stock, we split the sample into two periods to evaluate the VaR out-of-sample. You can re-use the data from the previous question."
   ]
  },
  {
   "cell_type": "markdown",
   "metadata": {},
   "source": [
    "**2.1** Use the above estimates to identify the most risky and the least risky stock in terms of their estimated betas. Create two `pandas` series `r_hirisk` and `r_lorisk` from the `df` DataFrame."
   ]
  },
  {
   "cell_type": "code",
   "execution_count": 14,
   "metadata": {},
   "outputs": [
    {
     "name": "stdout",
     "output_type": "stream",
     "text": [
      "2012-01-04    0.148030\n",
      "2012-01-05   -1.082163\n",
      "2012-01-06    0.610090\n",
      "2012-01-09    0.740668\n",
      "2012-01-10    0.628548\n",
      "Name: BA, dtype: float64\n",
      "2012-01-04    0.148030\n",
      "2012-01-05   -1.082163\n",
      "2012-01-06    0.610090\n",
      "2012-01-09    0.740668\n",
      "2012-01-10    0.628548\n",
      "Name: BA, dtype: float64\n",
      "2012-01-04   -1.033052\n",
      "2012-01-05   -0.486907\n",
      "2012-01-06   -0.709415\n",
      "2012-01-09    0.304599\n",
      "2012-01-10   -0.236870\n",
      "Name: WMT, dtype: float64\n",
      "2012-01-04   -1.033052\n",
      "2012-01-05   -0.486907\n",
      "2012-01-06   -0.709415\n",
      "2012-01-09    0.304599\n",
      "2012-01-10   -0.236870\n",
      "Name: WMT, dtype: float64\n"
     ]
    }
   ],
   "source": [
    "# From df3, we conclude that, in terms of market risk, BA has the highest risk (B= 1.55) and that WMT has the lowest risk (B=0.53\\)#print(df3) \n",
    "#print(df3)\n",
    "# Create pandas series for highest risk and lowest risk stocks\n",
    "\n",
    "r_hirisk= pd.Series(df['BA'])\n",
    "r_lorisk= pd.Series(df['WMT'])\n",
    "\n",
    "# Check if new created pandas series correspond to DataFrame df\n",
    "print(df['BA'].head())\n",
    "print(r_hirisk.head())\n",
    "\n",
    "print(df['WMT'].head())\n",
    "print(r_lorisk.head())\n",
    "\n"
   ]
  },
  {
   "cell_type": "markdown",
   "metadata": {},
   "source": [
    "**2.2** For both stocks, create a 1% VaR estimate, assuming a $t$ distribution. Comment on the difference between the estimates."
   ]
  },
  {
   "cell_type": "code",
   "execution_count": 15,
   "metadata": {
    "scrolled": true
   },
   "outputs": [
    {
     "name": "stdout",
     "output_type": "stream",
     "text": [
      "The VaR-estimate for the high risk stock is 6.022\n",
      "The VaR-estimate for the low risk stock is 3.078\n",
      " \n",
      "While for the low-risk stock we can say with 99% certainty that an eventual loss will not exceed 3.078%, for the risky stock this is 6.022%. This could be interpreted as that the lower-bound 99% confidence interval for the low risk stock is narrower. This is completely in line with BA stock being riskier than the WMT stock. In terms of Betas the risky stock is almost 3 times riskier, while in terms of VaR this is 2 times. This is because the VaR includes firm-specific risk which is not measured by the beta\n"
     ]
    }
   ],
   "source": [
    "# fit a location scale distribution for both the risky stock as the low-risk stock\n",
    "\n",
    "df,m,h= stats.t.fit(r_lorisk)\n",
    "df2,m2,h2= stats.t.fit(r_hirisk)\n",
    "\n",
    "\n",
    "# Create VaR estimates for both r_hirisk & r_lorisk assuming t-distribution\n",
    "\n",
    "VaR_lo= -stats.t.ppf(0.01,df,loc=m,scale=h)\n",
    "VaR_hi= -stats.t.ppf(0.01,df2,loc=m2,scale=h2)\n",
    "\n",
    "\n",
    "print(\"The VaR-estimate for the high risk stock is\", str(round(VaR_hi,3)))\n",
    "print(\"The VaR-estimate for the low risk stock is\",str(round(VaR_lo,3)))\n",
    "print(\" \")\n",
    "print(\"While for the low-risk stock we can say with 99% certainty that an eventual loss will not exceed 3.078%, for the risky stock this is 6.022%. This could be interpreted as that the lower-bound 99% confidence interval for the low risk stock is narrower. This is completely in line with BA stock being riskier than the WMT stock. In terms of Betas the risky stock is almost 3 times riskier, while in terms of VaR this is 2 times. This is because the VaR includes firm-specific risk which is not measured by the beta\")\n",
    "\n"
   ]
  },
  {
   "cell_type": "markdown",
   "metadata": {},
   "source": [
    "**Answer the following questions for the *risky stock* only.**"
   ]
  },
  {
   "cell_type": "markdown",
   "metadata": {},
   "source": [
    "**2.3** Test the fit of the Student's *t* distribution using a QQ plot, and give a conclusion in words."
   ]
  },
  {
   "cell_type": "code",
   "execution_count": 16,
   "metadata": {},
   "outputs": [
    {
     "name": "stderr",
     "output_type": "stream",
     "text": [
      "/Users/evaribbink/opt/anaconda3/lib/python3.9/site-packages/statsmodels/graphics/gofplots.py:993: UserWarning: marker is redundantly defined by the 'marker' keyword argument and the fmt string \"bo\" (-> marker='o'). The keyword argument will take precedence.\n",
      "  ax.plot(x, y, fmt, **plot_style)\n"
     ]
    },
    {
     "data": {
      "image/png": "[encoded data removed]",
      "text/plain": [
       "<Figure size 432x288 with 1 Axes>"
      ]
     },
     "metadata": {
      "needs_background": "light"
     },
     "output_type": "display_data"
    },
    {
     "name": "stdout",
     "output_type": "stream",
     "text": [
      "In the QQ-plot above we see that, except for the tails, the t-distribution fits the actual distribution well. This is shown by the fact that between the theoretical quantiles (-10,10) the blue points lie on the 45 degrees line. However, the deviations below and beyond the 45 degree line in the right and left hand side indicate signs of heavy tails (caused by extreme outliers). These outliers should be therefore considered and maybe controlled when using regressions\n"
     ]
    }
   ],
   "source": [
    "\n",
    "sm.qqplot(r_hirisk, dist=stats.t, fit=True, line='45')\n",
    "plt.title(\"QQ Plot vs. Student's $t$\")\n",
    "plt.show()\n",
    "\n",
    "print(\"In the QQ-plot above we see that, except for the tails, the t-distribution fits the actual distribution well. This is shown by the fact that between the theoretical quantiles (-10,10) the blue points lie on the 45 degrees line. However, the deviations below and beyond the 45 degree line in the right and left hand side indicate signs of heavy tails (caused by extreme outliers). These outliers should be therefore considered and maybe controlled when using regressions\")"
   ]
  },
  {
   "cell_type": "markdown",
   "metadata": {},
   "source": [
    "**2.4** Make a plot consisting of two subplots, the left of which shows $-R_t$ and $VaR^{0.01}$, and the right panel showing a histogram of $R_t$ overlaid with the fitted Student's *t* distribution. Make sure to add title, legend, and axis labels.\n",
    "\n",
    "*Hint*: The Value at Risk $VaR^{0.01}$ is constant over time, so the plot of the VaR will be a horizontal line."
   ]
  },
  {
   "cell_type": "code",
   "execution_count": 17,
   "metadata": {},
   "outputs": [
    {
     "name": "stderr",
     "output_type": "stream",
     "text": [
      "/Users/evaribbink/opt/anaconda3/lib/python3.9/site-packages/seaborn/distributions.py:2619: FutureWarning: `distplot` is a deprecated function and will be removed in a future version. Please adapt your code to use either `displot` (a figure-level function with similar flexibility) or `histplot` (an axes-level function for histograms).\n",
      "  warnings.warn(msg, FutureWarning)\n"
     ]
    },
    {
     "data": {
      "text/plain": [
       "Text(0.5, 1.0, 'Rt histogram with t-distribution')"
      ]
     },
     "execution_count": 17,
     "metadata": {},
     "output_type": "execute_result"
    },
    {
     "data": {
      "image/png": "[encoded data removed]",
      "text/plain": [
       "<Figure size 1800x720 with 2 Axes>"
      ]
     },
     "metadata": {
      "needs_background": "light"
     },
     "output_type": "display_data"
    }
   ],
   "source": [
    "# Re-define r_hirisk\n",
    "\n",
    "Rt=r_hirisk\n",
    "Rt_negative= -r_hirisk\n",
    "\n",
    "# Define new figure\n",
    "\n",
    "fig=plt.figure(figsize=(25,10))\n",
    "\n",
    "# Add subplot to \"fig\" containing -Rt & VaR_hi\n",
    "\n",
    "ax1 = fig.add_subplot(121)\n",
    "ax1.plot(Rt_negative, label='(-Rt)')\n",
    "ax1.axhline(VaR_hi, color = 'r',label = 'VaR_hi')\n",
    "\n",
    "# Add figure properties\n",
    "\n",
    "plt.xlabel('YEAR')\n",
    "plt.ylabel('NEGATIVE RETURNS')\n",
    "#plt.title('Negative Returns together with Var_HS and VaR_N')\n",
    "plt.legend()\n",
    "plt.title('Negative returns together with VaR of the risky stock')\n",
    "\n",
    "# Add subplot to \"fig\" which shows the histogram of Rt, overlaid with the fitted Stundent's t distribution\n",
    "\n",
    "ax2=fig.add_subplot(122)\n",
    "sns.distplot(Rt, kde=False, fit=stats.t)   \n",
    "\n",
    "# Add figure properties\n",
    "\n",
    "plt.xlabel('Rt')\n",
    "plt.ylabel('Probability density')\n",
    "plt.title( 'Rt histogram with t-distribution')\n",
    "\n",
    "\n"
   ]
  },
  {
   "cell_type": "markdown",
   "metadata": {},
   "source": [
    "**2.5** Finally, split the sample of `r_hirisk` into two parts: one sample from 2012-2019, and one sample from 2020-2021. Use the first sample (2012-2019) to compute the 1% VaR assuming a Student's $t$ distribution as before. Then, use the second sample to evaluate the VaR by counting the number of exceedances in the period 2020-2021. Give a conclusion in words.\n",
    "\n",
    "*Bonus* Does your conclusion change if you evaluate the VaR based on returns in 2021 only?"
   ]
  },
  {
   "cell_type": "code",
   "execution_count": null,
   "metadata": {},
   "outputs": [],
   "source": []
  }
 ],
 "metadata": {
  "kernelspec": {
   "display_name": "Python 3 (ipykernel)",
   "language": "python",
   "name": "python3"
  },
  "language_info": {
   "codemirror_mode": {
    "name": "ipython",
    "version": 3
   },
   "file_extension": ".py",
   "mimetype": "text/x-python",
   "name": "python",
   "nbconvert_exporter": "python",
   "pygments_lexer": "ipython3",
   "version": "3.9.7"
  }
 },
 "nbformat": 4,
 "nbformat_minor": 2
}
